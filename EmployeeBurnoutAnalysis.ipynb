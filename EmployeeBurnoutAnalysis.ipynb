{
 "cells": [
  {
   "cell_type": "markdown",
   "id": "d7249b07",
   "metadata": {},
   "source": [
    "Importing Libraries"
   ]
  },
  {
   "cell_type": "code",
   "execution_count": null,
   "id": "44f52179",
   "metadata": {},
   "outputs": [],
   "source": [
    "import warnings\n",
    "warnings.filterwarnings(\"ignore\")"
   ]
  },
  {
   "cell_type": "code",
   "execution_count": null,
   "id": "7c1bee3a",
   "metadata": {},
   "outputs": [],
   "source": [
    "!pip3 install pandas numpy seaborn matplotlib plotly #For python 3.x\n",
    "#pip install pandas numpy seaborn matplotlib plotly \n",
    "import pandas as pd\n",
    "import numpy as np\n",
    "\n",
    "import seaborn as sns\n",
    "import matplotlib.pyplot as plt\n",
    "import plotly.express as px\n",
    "\n"
   ]
  },
  {
   "cell_type": "markdown",
   "id": "06fabd13",
   "metadata": {},
   "source": [
    "Loadind the dataset"
   ]
  },
  {
   "cell_type": "code",
   "execution_count": null,
   "id": "115cbbd9",
   "metadata": {},
   "outputs": [],
   "source": [
    "pd.set_option('display.max_columns', None)\n",
    "burnoutDf = pd.read_csv('data/employee_burnout_analysis-AI.csv')\n",
    "burnoutDf"
   ]
  },
  {
   "cell_type": "code",
   "execution_count": null,
   "id": "436b5fc5",
   "metadata": {},
   "outputs": [],
   "source": [
    "#convert date of joining to datetime datatype\n",
    "burnoutDf['Date of Joining'] = pd.to_datetime(burnoutDf['Date of Joining'])"
   ]
  },
  {
   "cell_type": "code",
   "execution_count": null,
   "id": "3ef15750",
   "metadata": {},
   "outputs": [],
   "source": [
    "burnoutDf.info()"
   ]
  },
  {
   "cell_type": "code",
   "execution_count": null,
   "id": "0971cb1c",
   "metadata": {},
   "outputs": [],
   "source": [
    "burnoutDf.head()"
   ]
  },
  {
   "cell_type": "code",
   "execution_count": null,
   "id": "71f30e86",
   "metadata": {},
   "outputs": [],
   "source": [
    "#check for null values\n",
    "burnoutDf.isnull().sum()"
   ]
  },
  {
   "cell_type": "code",
   "execution_count": null,
   "id": "5982215b",
   "metadata": {},
   "outputs": [],
   "source": [
    "#check for duplicate values\n",
    "burnoutDf.duplicated().sum()"
   ]
  },
  {
   "cell_type": "code",
   "execution_count": null,
   "id": "fc82c333",
   "metadata": {},
   "outputs": [],
   "source": [
    "#calculate the mean, std, min, max and count of every attribute\n",
    "burnoutDf.describe()"
   ]
  },
  {
   "cell_type": "code",
   "execution_count": null,
   "id": "91d8d129",
   "metadata": {},
   "outputs": [],
   "source": [
    "#show the unique values\n",
    "for i, col in enumerate(burnoutDf.columns):\n",
    "    print(f\"\\n\\n{i+1}. {col}: {burnoutDf[col].unique()}\")\n",
    "    print(f\"\\n{burnoutDf[col].value_counts()}\\n\\n\")"
   ]
  },
  {
   "cell_type": "code",
   "execution_count": null,
   "id": "bcd3c0f1",
   "metadata": {},
   "outputs": [],
   "source": [
    "#Drop irrelevant columns\n",
    "burnoutDf = burnoutDf.drop(['Employee ID'],axis=1)"
   ]
  },
  {
   "cell_type": "code",
   "execution_count": null,
   "id": "3a4c13d8",
   "metadata": {},
   "outputs": [],
   "source": [
    "#check for skewness of the attributes\n",
    "intFloatburnoutDf = burnoutDf.select_dtypes([np.int64, np.float64])\n",
    "for i,col in enumerate(intFloatburnoutDf.columns):\n",
    "    if (intFloatburnoutDf[col].skew() >= 0.1):\n",
    "        print(\"\\n\",col,\"feature is Positive Skewed and the value is: \", intFloatburnoutDf[col].skew()) \n",
    "    elif(intFloatburnoutDf[col].skew() <= -0.1):\n",
    "        print(\"\\n\",col,\"feature is Negative Skewed and the value is: \", intFloatburnoutDf[col].skew())\n",
    "    else:\n",
    "        print(\"\\n\",col,\"feature is Normally Distributed and the value is: \", intFloatburnoutDf[col].skew())\n",
    "    "
   ]
  },
  {
   "cell_type": "code",
   "execution_count": null,
   "id": "aec32240",
   "metadata": {},
   "outputs": [],
   "source": [
    "#Replace the null values with the mean of the column\n",
    "burnoutDf['Resource Allocation'].fillna(burnoutDf['Resource Allocation'].mean(), inplace=True)\n",
    "burnoutDf['Mental Fatigue Score'].fillna(burnoutDf['Mental Fatigue Score'].mean(), inplace=True)\n",
    "burnoutDf['Burn Rate'].fillna(burnoutDf['Burn Rate'].mean(), inplace=True)"
   ]
  },
  {
   "cell_type": "code",
   "execution_count": null,
   "id": "8a7a44c1",
   "metadata": {},
   "outputs": [],
   "source": [
    "#check for null values\n",
    "burnoutDf.isna().sum()"
   ]
  },
  {
   "cell_type": "markdown",
   "id": "c54786b8",
   "metadata": {},
   "source": [
    "Data Visualization"
   ]
  },
  {
   "cell_type": "code",
   "execution_count": null,
   "id": "70fb78f3",
   "metadata": {},
   "outputs": [],
   "source": [
    "numeric_data = burnoutDf.select_dtypes(include=['number'])\n",
    "numeric_data.corr()"
   ]
  },
  {
   "cell_type": "code",
   "execution_count": null,
   "id": "871e1af7",
   "metadata": {},
   "outputs": [],
   "source": [
    "# Show the correlation matrix as a heatmap using plotly\n",
    "Corr = numeric_data.corr()\n",
    "plt.figure(figsize=(14, 12))\n",
    "sns.heatmap(Corr, annot=True, cmap=\"coolwarm\", fmt=\".2f\")\n",
    "plt.title(\"Correlation Heatmap\")\n",
    "plt.show()"
   ]
  },
  {
   "cell_type": "code",
   "execution_count": null,
   "id": "6757b3f8",
   "metadata": {},
   "outputs": [],
   "source": [
    "#Count plot distribution of \"Gender\"\n",
    "plt.figure(figsize=(10, 8))\n",
    "sns.countplot(x=\"Gender\", data=burnoutDf, palette=\"magma\")\n",
    "plt.title(\"Plot Distribution of Gender\")\n",
    "plt.show()"
   ]
  },
  {
   "cell_type": "code",
   "execution_count": null,
   "id": "51c0711a",
   "metadata": {},
   "outputs": [],
   "source": [
    "#Count plot distribution of \"Company Type\"\n",
    "plt.figure(figsize=(10, 8))\n",
    "sns.countplot(x=\"Company Type\", data=burnoutDf, palette=\"viridis\")\n",
    "plt.title(\"Plot Distribution of Company Type\")\n",
    "plt.show()"
   ]
  },
  {
   "cell_type": "code",
   "execution_count": null,
   "id": "72a46056",
   "metadata": {},
   "outputs": [],
   "source": [
    "#Count plot distribution of \"Work From Home \"\n",
    "plt.figure(figsize=(10, 8))\n",
    "sns.countplot(x=\"WFH Setup Available\", data=burnoutDf, palette=\"dark:salmon_r\")\n",
    "plt.title(\"Plot Distribution of Work From Home\")\n",
    "plt.show()\n"
   ]
  },
  {
   "cell_type": "code",
   "execution_count": null,
   "id": "89074a7b",
   "metadata": {},
   "outputs": [],
   "source": [
    "import nbformat\n",
    "print(nbformat.__version__)\n"
   ]
  },
  {
   "cell_type": "code",
   "execution_count": null,
   "id": "215225ec",
   "metadata": {},
   "outputs": [],
   "source": [
    "#Count plot distribution of attributes with the help of Histogram\n",
    "burn_st = burnoutDf.loc[:, 'Date of Joining':'Burn Rate']\n",
    "burn_st = burn_st.select_dtypes(include=[np.number])\n",
    "\n",
    "for col in burn_st.columns:\n",
    "    plt.figure(figsize=(8, 4))\n",
    "    sns.histplot(burn_st[col], bins=20, kde=True, color='skyblue')\n",
    "    plt.title(f\"Histogram of {col}\")\n",
    "    plt.xlabel(col)\n",
    "    plt.ylabel(\"Count\")\n",
    "    plt.grid(True)\n",
    "    plt.tight_layout()\n",
    "    plt.show()\n"
   ]
  },
  {
   "cell_type": "code",
   "execution_count": null,
   "id": "d5c750bb",
   "metadata": {},
   "outputs": [],
   "source": [
    "#plot distribution of Burn rate on the basis of Designation\n",
    "fig = px.line(\n",
    "    burnoutDf,\n",
    "    y=\"Burn Rate\",\n",
    "    color=\"Designation\",\n",
    "    title=\"Burn rate on the basis of Designation\",\n",
    "    color_discrete_sequence=px.colors.qualitative.Pastel1\n",
    ")\n",
    "\n",
    "fig.update_layout(bargap=0.1)\n",
    "\n",
    "fig.write_html(\"burn_rate_by_designation.html\")\n",
    "print(\"Plot saved as 'burn_rate_by_designation.html'. Open it in your browser.\")\n"
   ]
  },
  {
   "cell_type": "code",
   "execution_count": null,
   "id": "382bdeee",
   "metadata": {},
   "outputs": [],
   "source": [
    "#plot distribution of Burn Rate on the basis of Gender\n",
    "fig = px.line(\n",
    "    burnoutDf,\n",
    "    y=\"Burn Rate\",\n",
    "    color=\"Gender\",\n",
    "    title=\"Burn Rate on the basis of Gender\",\n",
    "    color_discrete_sequence=px.colors.qualitative.Pastel2\n",
    ")\n",
    "fig.update_layout(bargap=0.2)\n",
    "\n",
    "fig.write_html(\"burn_rate_by_gender.html\")\n",
    "print(\"Plot saved as 'burn_rate_by_gender.html'. Open it in your browser.\")"
   ]
  },
  {
   "cell_type": "code",
   "execution_count": null,
   "id": "7bca363d",
   "metadata": {},
   "outputs": [],
   "source": [
    "#plot distribution of mental fatigue score on the basis of Designation\n",
    "fig = px.line(\n",
    "    burnoutDf,\n",
    "    y=\"Mental Fatigue Score\",\n",
    "    color=\"Designation\",\n",
    "    title=\"mental_fatigue_vs_Designation\",\n",
    "    color_discrete_sequence=px.colors.qualitative.Pastel2\n",
    ")\n",
    "fig.update_layout(bargap=0.2)\n",
    "\n",
    "fig.write_html(\"mental_fatigue_vs_Designation.html\")\n",
    "print(\"Plot saved as 'mental_fatigue_vs_Designation.html'. Open it in your browser.\")"
   ]
  },
  {
   "cell_type": "code",
   "execution_count": null,
   "id": "5b3356eb",
   "metadata": {},
   "outputs": [],
   "source": [
    "#Plot distribution of \"Designation vs mental fatigue score\" as per company type, Burn rate and Gender\n",
    "fig = px.scatter(\n",
    "    burnoutDf,\n",
    "    x=\"Designation\",\n",
    "    y=\"Mental Fatigue Score\",\n",
    "    color=\"Company Type\",\n",
    "    size=\"Burn Rate\",\n",
    "    symbol=\"Gender\",\n",
    "    color_discrete_sequence=px.colors.qualitative.Set2,\n",
    "    size_max=60,\n",
    "    title=\"Designation vs Mental Fatigue Score by Company Type, Burn Rate, and Gender\"\n",
    ")\n",
    "\n",
    "fig.write_html(\"Designation-vs-mental-fatigue-score.html\")\n",
    "print(\"Plot saved as 'Designation-vs-mental-fatigue-score.html'. Open it in your browser.\")\n",
    "\n"
   ]
  },
  {
   "cell_type": "markdown",
   "id": "dbc8e19d",
   "metadata": {},
   "source": [
    "Label Encoding"
   ]
  },
  {
   "cell_type": "code",
   "execution_count": null,
   "id": "bd5269fd",
   "metadata": {},
   "outputs": [],
   "source": [
    "!pip3 install scikit-learn\n",
    "\n",
    "#label encoding and assign in the new variable\n",
    "from sklearn import preprocessing\n",
    "Label_encode = preprocessing.LabelEncoder()"
   ]
  },
  {
   "cell_type": "code",
   "execution_count": null,
   "id": "cab9c550",
   "metadata": {},
   "outputs": [],
   "source": [
    "#Assign in new variable\n",
    "burnoutDf['GenderLabel'] = Label_encode.fit_transform(burnoutDf['Gender'].values)\n",
    "burnoutDf['Company TypeLabel'] = Label_encode.fit_transform(burnoutDf['Company Type'].values)\n",
    "burnoutDf['WFH Setup AvailableLabel'] = Label_encode.fit_transform(burnoutDf['WFH Setup Available'].values)"
   ]
  },
  {
   "cell_type": "code",
   "execution_count": null,
   "id": "1ec95fb9",
   "metadata": {},
   "outputs": [],
   "source": [
    "#check assigned values\n",
    "gn = burnoutDf.groupby('Gender')\n",
    "gn = gn['GenderLabel']\n",
    "gn.first()"
   ]
  },
  {
   "cell_type": "code",
   "execution_count": null,
   "id": "57ce05bf",
   "metadata": {},
   "outputs": [],
   "source": [
    "#check assigned values\n",
    "ct = burnoutDf.groupby('Company Type')\n",
    "ct = ct['Company TypeLabel']\n",
    "ct.first()"
   ]
  },
  {
   "cell_type": "code",
   "execution_count": null,
   "id": "51c1cea3",
   "metadata": {},
   "outputs": [],
   "source": [
    "#check assigned values\n",
    "wsa = burnoutDf.groupby('WFH Setup Available')\n",
    "wsa = wsa['WFH Setup AvailableLabel']\n",
    "wsa.first()"
   ]
  },
  {
   "cell_type": "code",
   "execution_count": null,
   "id": "505aa578",
   "metadata": {},
   "outputs": [],
   "source": [
    "#show last 10 rows of the dataframe\n",
    "burnoutDf.tail(10)"
   ]
  },
  {
   "cell_type": "code",
   "execution_count": null,
   "id": "64404b37",
   "metadata": {},
   "outputs": [],
   "source": [
    "#Feature Selection\n",
    "Columns = ['Designation','Resource Allocation', 'Mental Fatigue Score', 'Burn Rate', 'GenderLabel', 'Company TypeLabel', 'WFH Setup AvailableLabel']\n",
    "x = burnoutDf[Columns]\n",
    "y = burnoutDf['Burn Rate']"
   ]
  },
  {
   "cell_type": "code",
   "execution_count": null,
   "id": "b9eb2483",
   "metadata": {},
   "outputs": [],
   "source": [
    "print(x)"
   ]
  },
  {
   "cell_type": "code",
   "execution_count": null,
   "id": "7ac81f78",
   "metadata": {},
   "outputs": [],
   "source": [
    "print(y)"
   ]
  },
  {
   "cell_type": "markdown",
   "id": "4ed71394",
   "metadata": {},
   "source": [
    "Implementing PCA"
   ]
  },
  {
   "cell_type": "code",
   "execution_count": null,
   "id": "1ac2d72d",
   "metadata": {},
   "outputs": [],
   "source": [
    "from sklearn.decomposition import PCA\n",
    " \n",
    "pca = PCA(0.95)\n",
    "X_pca = pca.fit_transform(x)\n",
    "\n",
    "print(\"PCA shape of X: \", X_pca.shape, \"and original shape: \", x.shape)\n",
    "print(\"% importance of selected features: \", pca.explained_variance_ratio_)\n",
    "print(\"The number of features selected through PCA: \", pca.n_components_)\n",
    " "
   ]
  },
  {
   "cell_type": "markdown",
   "id": "83eb2824",
   "metadata": {},
   "source": [
    "Data Splitting"
   ]
  },
  {
   "cell_type": "code",
   "execution_count": null,
   "id": "cc8612b8",
   "metadata": {},
   "outputs": [],
   "source": [
    "#Data Splitting into training and testing sets\n",
    "from sklearn.model_selection import train_test_split\n",
    "X_train_pca, X_test, y_train, y_test = train_test_split(X_pca, y, test_size=0.25, random_state=10)\n"
   ]
  },
  {
   "cell_type": "code",
   "execution_count": null,
   "id": "b0cd509a",
   "metadata": {},
   "outputs": [],
   "source": [
    "#print the shape of splitted data\n",
    "print(X_train_pca.shape,X_test.shape,y_train.shape,y_test.shape)"
   ]
  },
  {
   "cell_type": "markdown",
   "id": "8dbca6d2",
   "metadata": {},
   "source": [
    "MODEL IMPLEMENTATION"
   ]
  },
  {
   "cell_type": "code",
   "execution_count": null,
   "id": "c53668aa",
   "metadata": {},
   "outputs": [],
   "source": [
    "from sklearn.metrics import r2_score"
   ]
  },
  {
   "cell_type": "markdown",
   "id": "47870813",
   "metadata": {},
   "source": [
    "Random Forest Regressor"
   ]
  },
  {
   "cell_type": "code",
   "execution_count": null,
   "id": "1ce57d34",
   "metadata": {},
   "outputs": [],
   "source": [
    "#Random Forest Regressor\n",
    "from sklearn.ensemble import RandomForestRegressor\n",
    "\n",
    "rf_model = RandomForestRegressor()\n",
    "rf_model.fit(X_train_pca, y_train)\n",
    "\n",
    "train_pred_rf = rf_model.predict(X_train_pca)\n",
    "train_r2 = r2_score(y_train, train_pred_rf)\n",
    "test_pred_rf = rf_model.predict(X_test)\n",
    "test_r2_rf = r2_score(y_test, test_pred_rf)\n",
    "\n",
    "#Accuracy Score of Random Forest Regressor\n",
    "print(\"Accuracy score of train data using Random Forest Regressor: \"+str(round(100 * train_r2, 4))+\"%\")\n",
    "print(\"Accuracy score of test data using Random Forest Regressor: \"+str(round(100 * test_r2_rf, 4))+\"%\")"
   ]
  },
  {
   "cell_type": "markdown",
   "id": "9cb6071c",
   "metadata": {},
   "source": [
    "AdaBoost Regressor"
   ]
  },
  {
   "cell_type": "code",
   "execution_count": null,
   "id": "95f98b6e",
   "metadata": {},
   "outputs": [],
   "source": [
    "#AdaBoost Regressor\n",
    "from sklearn.ensemble import AdaBoostRegressor\n",
    "abr_model = AdaBoostRegressor()\n",
    "abr_model.fit(X_train_pca, y_train)\n",
    "\n",
    "train_pred_adboost = abr_model.predict(X_train_pca)\n",
    "train_r2 = r2_score(y_train, train_pred_adboost)\n",
    "test_pred_adaboost = abr_model.predict(X_test)\n",
    "test_r2 = r2_score(y_test, test_pred_adaboost)\n",
    "\n",
    "#Accuracy Score of AdaBoost Regressor\n",
    "print(\"Accuracy score of train data using AdaBoost Regressor: \"+str(round(100 * train_r2, 4))+\"%\")\n",
    "print(\"Accuracy score of test data using AdaBoost Regressor: \"+str(round(100 * test_r2, 4))+\"%\")"
   ]
  },
  {
   "cell_type": "code",
   "execution_count": null,
   "id": "2675c790",
   "metadata": {},
   "outputs": [],
   "source": []
  }
 ],
 "metadata": {
  "kernelspec": {
   "display_name": "Python 3",
   "language": "python",
   "name": "python3"
  },
  "language_info": {
   "codemirror_mode": {
    "name": "ipython",
    "version": 3
   },
   "file_extension": ".py",
   "mimetype": "text/x-python",
   "name": "python",
   "nbconvert_exporter": "python",
   "pygments_lexer": "ipython3",
   "version": "3.13.5"
  }
 },
 "nbformat": 4,
 "nbformat_minor": 5
}
